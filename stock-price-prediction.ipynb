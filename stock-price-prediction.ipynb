{
 "cells": [
  {
   "cell_type": "markdown",
   "id": "a89b1e3d",
   "metadata": {
    "_cell_guid": "b1076dfc-b9ad-4769-8c92-a6c4dae69d19",
    "_uuid": "8f2839f25d086af736a60e9eeb907d3b93b6e0e5",
    "execution": {
     "iopub.execute_input": "2024-03-21T20:04:18.794583Z",
     "iopub.status.busy": "2024-03-21T20:04:18.793499Z",
     "iopub.status.idle": "2024-03-21T20:04:18.800438Z",
     "shell.execute_reply": "2024-03-21T20:04:18.799424Z",
     "shell.execute_reply.started": "2024-03-21T20:04:18.794521Z"
    },
    "papermill": {
     "duration": 0.005712,
     "end_time": "2024-04-03T14:59:09.347637",
     "exception": false,
     "start_time": "2024-04-03T14:59:09.341925",
     "status": "completed"
    },
    "tags": []
   },
   "source": [
    "# About Dataset:\n",
    "\n",
    "****Here we have two datasets. First one is trained dataset and the second one is tested dataset.****\n",
    "\n",
    "****First dataset(DataGoogle.csv) has information about the google stock prices from year 2012 to 2016. It contains 6 columns whose details are given below:****\n",
    ">* Date: It contains the particular date of the stock price details.\n",
    ">* Open: The opening price of the google stock.\n",
    ">* High: Highest price of the stock on that day.\n",
    ">* Low: Lowest price of the stock that day.\n",
    ">* Close: Closing price of the stock that day.\n",
    ">* Volume: Volume of the stock on that particular day.\n",
    "\n",
    "****Second dataset(GoogleTest_data.csv) is our test data. It contains 7 columns whose details are given below:****\n",
    ">* Date: It contains the particular date of the stock price details.\n",
    ">* Open: The opening price of the google stock.\n",
    ">* High: Highest price of the stock on that day.\n",
    ">* Low: Lowest price of the stock that day.\n",
    ">* Close: Closing price of the stock that day.\n",
    ">* Adj Close: Adj closing price of the stock.\n",
    ">* Volume: Volume of the stock on that particular day."
   ]
  },
  {
   "cell_type": "code",
   "execution_count": 1,
   "id": "3a299488",
   "metadata": {
    "execution": {
     "iopub.execute_input": "2024-04-03T14:59:09.359859Z",
     "iopub.status.busy": "2024-04-03T14:59:09.359479Z",
     "iopub.status.idle": "2024-04-03T14:59:22.517043Z",
     "shell.execute_reply": "2024-04-03T14:59:22.516262Z"
    },
    "papermill": {
     "duration": 13.166547,
     "end_time": "2024-04-03T14:59:22.519453",
     "exception": false,
     "start_time": "2024-04-03T14:59:09.352906",
     "status": "completed"
    },
    "tags": []
   },
   "outputs": [
    {
     "name": "stderr",
     "output_type": "stream",
     "text": [
      "2024-04-03 14:59:12.934390: E external/local_xla/xla/stream_executor/cuda/cuda_dnn.cc:9261] Unable to register cuDNN factory: Attempting to register factory for plugin cuDNN when one has already been registered\n",
      "2024-04-03 14:59:12.934488: E external/local_xla/xla/stream_executor/cuda/cuda_fft.cc:607] Unable to register cuFFT factory: Attempting to register factory for plugin cuFFT when one has already been registered\n",
      "2024-04-03 14:59:13.067761: E external/local_xla/xla/stream_executor/cuda/cuda_blas.cc:1515] Unable to register cuBLAS factory: Attempting to register factory for plugin cuBLAS when one has already been registered\n"
     ]
    }
   ],
   "source": [
    "#importing necessary libraries\n",
    "import numpy as np \n",
    "import pandas as pd \n",
    "import matplotlib.pyplot as plt \n",
    "from sklearn.preprocessing import MinMaxScaler\n",
    "from keras.models import Sequential\n",
    "from keras.layers import Dense,LSTM,Dropout"
   ]
  },
  {
   "cell_type": "code",
   "execution_count": 2,
   "id": "e9bf60b3",
   "metadata": {
    "execution": {
     "iopub.execute_input": "2024-04-03T14:59:22.531633Z",
     "iopub.status.busy": "2024-04-03T14:59:22.531127Z",
     "iopub.status.idle": "2024-04-03T14:59:22.550335Z",
     "shell.execute_reply": "2024-04-03T14:59:22.549424Z"
    },
    "papermill": {
     "duration": 0.027615,
     "end_time": "2024-04-03T14:59:22.552553",
     "exception": false,
     "start_time": "2024-04-03T14:59:22.524938",
     "status": "completed"
    },
    "tags": []
   },
   "outputs": [],
   "source": [
    "#load google trained dataset\n",
    "data = pd.read_csv('../input/google/DataGoogle.csv')"
   ]
  },
  {
   "cell_type": "code",
   "execution_count": 3,
   "id": "a3417635",
   "metadata": {
    "execution": {
     "iopub.execute_input": "2024-04-03T14:59:22.564749Z",
     "iopub.status.busy": "2024-04-03T14:59:22.564237Z",
     "iopub.status.idle": "2024-04-03T14:59:22.662755Z",
     "shell.execute_reply": "2024-04-03T14:59:22.661753Z"
    },
    "papermill": {
     "duration": 0.107049,
     "end_time": "2024-04-03T14:59:22.665015",
     "exception": false,
     "start_time": "2024-04-03T14:59:22.557966",
     "status": "completed"
    },
    "tags": []
   },
   "outputs": [
    {
     "data": {
      "text/html": [
       "<style type=\"text/css\">\n",
       "#T_980f1_row0_col0, #T_980f1_row0_col1, #T_980f1_row0_col2, #T_980f1_row0_col3, #T_980f1_row0_col4, #T_980f1_row0_col5, #T_980f1_row1_col0, #T_980f1_row1_col1, #T_980f1_row1_col2, #T_980f1_row1_col3, #T_980f1_row1_col4, #T_980f1_row1_col5, #T_980f1_row2_col0, #T_980f1_row2_col1, #T_980f1_row2_col2, #T_980f1_row2_col3, #T_980f1_row2_col4, #T_980f1_row2_col5, #T_980f1_row3_col0, #T_980f1_row3_col1, #T_980f1_row3_col2, #T_980f1_row3_col3, #T_980f1_row3_col4, #T_980f1_row3_col5, #T_980f1_row4_col0, #T_980f1_row4_col1, #T_980f1_row4_col2, #T_980f1_row4_col3, #T_980f1_row4_col4, #T_980f1_row4_col5 {\n",
       "  background-color: black;\n",
       "  color: cyan;\n",
       "  border: 1.5px  white;\n",
       "}\n",
       "</style>\n",
       "<table id=\"T_980f1\">\n",
       "  <thead>\n",
       "    <tr>\n",
       "      <th class=\"blank level0\" >&nbsp;</th>\n",
       "      <th id=\"T_980f1_level0_col0\" class=\"col_heading level0 col0\" >Date</th>\n",
       "      <th id=\"T_980f1_level0_col1\" class=\"col_heading level0 col1\" >Open</th>\n",
       "      <th id=\"T_980f1_level0_col2\" class=\"col_heading level0 col2\" >High</th>\n",
       "      <th id=\"T_980f1_level0_col3\" class=\"col_heading level0 col3\" >Low</th>\n",
       "      <th id=\"T_980f1_level0_col4\" class=\"col_heading level0 col4\" >Close</th>\n",
       "      <th id=\"T_980f1_level0_col5\" class=\"col_heading level0 col5\" >Volume</th>\n",
       "    </tr>\n",
       "  </thead>\n",
       "  <tbody>\n",
       "    <tr>\n",
       "      <th id=\"T_980f1_level0_row0\" class=\"row_heading level0 row0\" >0</th>\n",
       "      <td id=\"T_980f1_row0_col0\" class=\"data row0 col0\" >01-04-2012</td>\n",
       "      <td id=\"T_980f1_row0_col1\" class=\"data row0 col1\" >331.270000</td>\n",
       "      <td id=\"T_980f1_row0_col2\" class=\"data row0 col2\" >333.870000</td>\n",
       "      <td id=\"T_980f1_row0_col3\" class=\"data row0 col3\" >329.080000</td>\n",
       "      <td id=\"T_980f1_row0_col4\" class=\"data row0 col4\" >666.45</td>\n",
       "      <td id=\"T_980f1_row0_col5\" class=\"data row0 col5\" >57,49,400</td>\n",
       "    </tr>\n",
       "    <tr>\n",
       "      <th id=\"T_980f1_level0_row1\" class=\"row_heading level0 row1\" >1</th>\n",
       "      <td id=\"T_980f1_row1_col0\" class=\"data row1 col0\" >01-05-2012</td>\n",
       "      <td id=\"T_980f1_row1_col1\" class=\"data row1 col1\" >329.830000</td>\n",
       "      <td id=\"T_980f1_row1_col2\" class=\"data row1 col2\" >330.750000</td>\n",
       "      <td id=\"T_980f1_row1_col3\" class=\"data row1 col3\" >326.890000</td>\n",
       "      <td id=\"T_980f1_row1_col4\" class=\"data row1 col4\" >657.21</td>\n",
       "      <td id=\"T_980f1_row1_col5\" class=\"data row1 col5\" >65,90,300</td>\n",
       "    </tr>\n",
       "    <tr>\n",
       "      <th id=\"T_980f1_level0_row2\" class=\"row_heading level0 row2\" >2</th>\n",
       "      <td id=\"T_980f1_row2_col0\" class=\"data row2 col0\" >01-06-2012</td>\n",
       "      <td id=\"T_980f1_row2_col1\" class=\"data row2 col1\" >328.340000</td>\n",
       "      <td id=\"T_980f1_row2_col2\" class=\"data row2 col2\" >328.770000</td>\n",
       "      <td id=\"T_980f1_row2_col3\" class=\"data row2 col3\" >323.680000</td>\n",
       "      <td id=\"T_980f1_row2_col4\" class=\"data row2 col4\" >648.24</td>\n",
       "      <td id=\"T_980f1_row2_col5\" class=\"data row2 col5\" >54,05,900</td>\n",
       "    </tr>\n",
       "    <tr>\n",
       "      <th id=\"T_980f1_level0_row3\" class=\"row_heading level0 row3\" >3</th>\n",
       "      <td id=\"T_980f1_row3_col0\" class=\"data row3 col0\" >01-09-2012</td>\n",
       "      <td id=\"T_980f1_row3_col1\" class=\"data row3 col1\" >322.040000</td>\n",
       "      <td id=\"T_980f1_row3_col2\" class=\"data row3 col2\" >322.290000</td>\n",
       "      <td id=\"T_980f1_row3_col3\" class=\"data row3 col3\" >309.460000</td>\n",
       "      <td id=\"T_980f1_row3_col4\" class=\"data row3 col4\" >620.76</td>\n",
       "      <td id=\"T_980f1_row3_col5\" class=\"data row3 col5\" >1,16,88,800</td>\n",
       "    </tr>\n",
       "    <tr>\n",
       "      <th id=\"T_980f1_level0_row4\" class=\"row_heading level0 row4\" >4</th>\n",
       "      <td id=\"T_980f1_row4_col0\" class=\"data row4 col0\" >01-10-2012</td>\n",
       "      <td id=\"T_980f1_row4_col1\" class=\"data row4 col1\" >313.700000</td>\n",
       "      <td id=\"T_980f1_row4_col2\" class=\"data row4 col2\" >315.720000</td>\n",
       "      <td id=\"T_980f1_row4_col3\" class=\"data row4 col3\" >307.300000</td>\n",
       "      <td id=\"T_980f1_row4_col4\" class=\"data row4 col4\" >621.43</td>\n",
       "      <td id=\"T_980f1_row4_col5\" class=\"data row4 col5\" >88,24,000</td>\n",
       "    </tr>\n",
       "  </tbody>\n",
       "</table>\n"
      ],
      "text/plain": [
       "<pandas.io.formats.style.Styler at 0x7bfd7ecabee0>"
      ]
     },
     "execution_count": 3,
     "metadata": {},
     "output_type": "execute_result"
    }
   ],
   "source": [
    "#check head of the dataset\n",
    "data.head().style.set_properties(**{'background-color': 'black',\n",
    "                                    'color': 'cyan',\n",
    "                                    'border': '1.5px  white'})"
   ]
  },
  {
   "cell_type": "code",
   "execution_count": 4,
   "id": "8aeb14d6",
   "metadata": {
    "execution": {
     "iopub.execute_input": "2024-04-03T14:59:22.677944Z",
     "iopub.status.busy": "2024-04-03T14:59:22.677143Z",
     "iopub.status.idle": "2024-04-03T14:59:22.698463Z",
     "shell.execute_reply": "2024-04-03T14:59:22.697648Z"
    },
    "papermill": {
     "duration": 0.029994,
     "end_time": "2024-04-03T14:59:22.700718",
     "exception": false,
     "start_time": "2024-04-03T14:59:22.670724",
     "status": "completed"
    },
    "tags": []
   },
   "outputs": [
    {
     "name": "stdout",
     "output_type": "stream",
     "text": [
      "<class 'pandas.core.frame.DataFrame'>\n",
      "RangeIndex: 1256 entries, 0 to 1255\n",
      "Data columns (total 6 columns):\n",
      " #   Column  Non-Null Count  Dtype  \n",
      "---  ------  --------------  -----  \n",
      " 0   Date    1256 non-null   object \n",
      " 1   Open    1256 non-null   float64\n",
      " 2   High    1256 non-null   float64\n",
      " 3   Low     1256 non-null   float64\n",
      " 4   Close   1256 non-null   object \n",
      " 5   Volume  1256 non-null   object \n",
      "dtypes: float64(3), object(3)\n",
      "memory usage: 59.0+ KB\n"
     ]
    }
   ],
   "source": [
    "#check the information about the dataset\n",
    "data.info()"
   ]
  },
  {
   "cell_type": "code",
   "execution_count": 5,
   "id": "4954eafe",
   "metadata": {
    "execution": {
     "iopub.execute_input": "2024-04-03T14:59:22.713172Z",
     "iopub.status.busy": "2024-04-03T14:59:22.712603Z",
     "iopub.status.idle": "2024-04-03T14:59:22.722085Z",
     "shell.execute_reply": "2024-04-03T14:59:22.721350Z"
    },
    "papermill": {
     "duration": 0.017783,
     "end_time": "2024-04-03T14:59:22.724192",
     "exception": false,
     "start_time": "2024-04-03T14:59:22.706409",
     "status": "completed"
    },
    "tags": []
   },
   "outputs": [],
   "source": [
    "#convert close coloumn datatype from object to numaric \n",
    "data[\"Close\"]=pd.to_numeric(data.Close,errors='coerce')\n",
    "data = data.dropna()\n",
    "trainData = data.iloc[:,4:5].values"
   ]
  },
  {
   "cell_type": "code",
   "execution_count": 6,
   "id": "3c14acd1",
   "metadata": {
    "execution": {
     "iopub.execute_input": "2024-04-03T14:59:22.736884Z",
     "iopub.status.busy": "2024-04-03T14:59:22.736614Z",
     "iopub.status.idle": "2024-04-03T14:59:22.747990Z",
     "shell.execute_reply": "2024-04-03T14:59:22.747037Z"
    },
    "papermill": {
     "duration": 0.019809,
     "end_time": "2024-04-03T14:59:22.749985",
     "exception": false,
     "start_time": "2024-04-03T14:59:22.730176",
     "status": "completed"
    },
    "tags": []
   },
   "outputs": [
    {
     "name": "stdout",
     "output_type": "stream",
     "text": [
      "<class 'pandas.core.frame.DataFrame'>\n",
      "Index: 1147 entries, 0 to 1255\n",
      "Data columns (total 6 columns):\n",
      " #   Column  Non-Null Count  Dtype  \n",
      "---  ------  --------------  -----  \n",
      " 0   Date    1147 non-null   object \n",
      " 1   Open    1147 non-null   float64\n",
      " 2   High    1147 non-null   float64\n",
      " 3   Low     1147 non-null   float64\n",
      " 4   Close   1147 non-null   float64\n",
      " 5   Volume  1147 non-null   object \n",
      "dtypes: float64(4), object(2)\n",
      "memory usage: 62.7+ KB\n"
     ]
    }
   ],
   "source": [
    "#check the datatype information\n",
    "data.info()"
   ]
  },
  {
   "cell_type": "code",
   "execution_count": 7,
   "id": "d22800a9",
   "metadata": {
    "execution": {
     "iopub.execute_input": "2024-04-03T14:59:22.762712Z",
     "iopub.status.busy": "2024-04-03T14:59:22.762418Z",
     "iopub.status.idle": "2024-04-03T14:59:22.771021Z",
     "shell.execute_reply": "2024-04-03T14:59:22.770024Z"
    },
    "papermill": {
     "duration": 0.01755,
     "end_time": "2024-04-03T14:59:22.773513",
     "exception": false,
     "start_time": "2024-04-03T14:59:22.755963",
     "status": "completed"
    },
    "tags": []
   },
   "outputs": [
    {
     "data": {
      "text/plain": [
       "(1147, 1)"
      ]
     },
     "execution_count": 7,
     "metadata": {},
     "output_type": "execute_result"
    }
   ],
   "source": [
    "#rescale data between 0 & 1\n",
    "sc = MinMaxScaler(feature_range=(0,1))\n",
    "trainData = sc.fit_transform(trainData)\n",
    "trainData.shape"
   ]
  },
  {
   "cell_type": "code",
   "execution_count": 8,
   "id": "77836e55",
   "metadata": {
    "execution": {
     "iopub.execute_input": "2024-04-03T14:59:22.787688Z",
     "iopub.status.busy": "2024-04-03T14:59:22.787442Z",
     "iopub.status.idle": "2024-04-03T14:59:22.794947Z",
     "shell.execute_reply": "2024-04-03T14:59:22.794262Z"
    },
    "papermill": {
     "duration": 0.016709,
     "end_time": "2024-04-03T14:59:22.796872",
     "exception": false,
     "start_time": "2024-04-03T14:59:22.780163",
     "status": "completed"
    },
    "tags": []
   },
   "outputs": [],
   "source": [
    "#prepare data for training\n",
    "X_train = []\n",
    "y_train = []\n",
    "\n",
    "for i in range (60,1147): #60 : timestep // 1147 : length of the data\n",
    "    X_train.append(trainData[i-60:i,0]) \n",
    "    y_train.append(trainData[i,0])\n",
    "\n",
    "X_train,y_train = np.array(X_train),np.array(y_train)"
   ]
  },
  {
   "cell_type": "code",
   "execution_count": 9,
   "id": "cf5a6550",
   "metadata": {
    "execution": {
     "iopub.execute_input": "2024-04-03T14:59:22.809666Z",
     "iopub.status.busy": "2024-04-03T14:59:22.809206Z",
     "iopub.status.idle": "2024-04-03T14:59:22.815292Z",
     "shell.execute_reply": "2024-04-03T14:59:22.814466Z"
    },
    "papermill": {
     "duration": 0.014597,
     "end_time": "2024-04-03T14:59:22.817077",
     "exception": false,
     "start_time": "2024-04-03T14:59:22.802480",
     "status": "completed"
    },
    "tags": []
   },
   "outputs": [
    {
     "data": {
      "text/plain": [
       "(1087, 60, 1)"
      ]
     },
     "execution_count": 9,
     "metadata": {},
     "output_type": "execute_result"
    }
   ],
   "source": [
    "#check the shape\n",
    "X_train = np.reshape(X_train,(X_train.shape[0],X_train.shape[1],1)) #adding the batch_size axis\n",
    "X_train.shape"
   ]
  },
  {
   "cell_type": "code",
   "execution_count": 10,
   "id": "0bd4f668",
   "metadata": {
    "execution": {
     "iopub.execute_input": "2024-04-03T14:59:22.830631Z",
     "iopub.status.busy": "2024-04-03T14:59:22.830353Z",
     "iopub.status.idle": "2024-04-03T14:59:24.103720Z",
     "shell.execute_reply": "2024-04-03T14:59:24.102938Z"
    },
    "papermill": {
     "duration": 1.2833,
     "end_time": "2024-04-03T14:59:24.106087",
     "exception": false,
     "start_time": "2024-04-03T14:59:22.822787",
     "status": "completed"
    },
    "tags": []
   },
   "outputs": [
    {
     "name": "stderr",
     "output_type": "stream",
     "text": [
      "/opt/conda/lib/python3.10/site-packages/keras/src/layers/rnn/rnn.py:205: UserWarning: Do not pass an `input_shape`/`input_dim` argument to a layer. When using Sequential models, prefer using an `Input(shape)` object as the first layer in the model instead.\n",
      "  super().__init__(**kwargs)\n"
     ]
    }
   ],
   "source": [
    "#build the model\n",
    "model = Sequential()\n",
    "\n",
    "model.add(LSTM(units=100, return_sequences = True, input_shape =(X_train.shape[1],1)))\n",
    "model.add(Dropout(0.2))\n",
    "\n",
    "model.add(LSTM(units=100, return_sequences = True))\n",
    "model.add(Dropout(0.2))\n",
    "\n",
    "model.add(LSTM(units=100, return_sequences = True))\n",
    "model.add(Dropout(0.2))\n",
    "\n",
    "model.add(LSTM(units=100, return_sequences = False))\n",
    "model.add(Dropout(0.2))\n",
    "\n",
    "model.add(Dense(units =1))\n",
    "model.compile(optimizer='adam',loss=\"mean_squared_error\")"
   ]
  },
  {
   "cell_type": "code",
   "execution_count": 11,
   "id": "e8c929ec",
   "metadata": {
    "execution": {
     "iopub.execute_input": "2024-04-03T14:59:24.119408Z",
     "iopub.status.busy": "2024-04-03T14:59:24.119105Z",
     "iopub.status.idle": "2024-04-03T14:59:40.986588Z",
     "shell.execute_reply": "2024-04-03T14:59:40.985521Z"
    },
    "papermill": {
     "duration": 16.876701,
     "end_time": "2024-04-03T14:59:40.988915",
     "exception": false,
     "start_time": "2024-04-03T14:59:24.112214",
     "status": "completed"
    },
    "tags": []
   },
   "outputs": [
    {
     "name": "stdout",
     "output_type": "stream",
     "text": [
      "Epoch 1/20\n",
      "34/34 - 6s - 170ms/step - loss: 0.0378\n",
      "Epoch 2/20\n",
      "34/34 - 1s - 17ms/step - loss: 0.0112\n",
      "Epoch 3/20\n",
      "34/34 - 1s - 17ms/step - loss: 0.0089\n",
      "Epoch 4/20\n",
      "34/34 - 1s - 17ms/step - loss: 0.0079\n",
      "Epoch 5/20\n",
      "34/34 - 1s - 17ms/step - loss: 0.0075\n",
      "Epoch 6/20\n",
      "34/34 - 1s - 17ms/step - loss: 0.0065\n",
      "Epoch 7/20\n",
      "34/34 - 1s - 17ms/step - loss: 0.0073\n",
      "Epoch 8/20\n",
      "34/34 - 1s - 17ms/step - loss: 0.0061\n",
      "Epoch 9/20\n",
      "34/34 - 1s - 17ms/step - loss: 0.0060\n",
      "Epoch 10/20\n",
      "34/34 - 1s - 17ms/step - loss: 0.0069\n",
      "Epoch 11/20\n",
      "34/34 - 1s - 17ms/step - loss: 0.0062\n",
      "Epoch 12/20\n",
      "34/34 - 1s - 17ms/step - loss: 0.0051\n",
      "Epoch 13/20\n",
      "34/34 - 1s - 17ms/step - loss: 0.0057\n",
      "Epoch 14/20\n",
      "34/34 - 1s - 17ms/step - loss: 0.0046\n",
      "Epoch 15/20\n",
      "34/34 - 1s - 17ms/step - loss: 0.0051\n",
      "Epoch 16/20\n",
      "34/34 - 1s - 17ms/step - loss: 0.0051\n",
      "Epoch 17/20\n",
      "34/34 - 1s - 17ms/step - loss: 0.0057\n",
      "Epoch 18/20\n",
      "34/34 - 1s - 17ms/step - loss: 0.0045\n",
      "Epoch 19/20\n",
      "34/34 - 1s - 17ms/step - loss: 0.0045\n",
      "Epoch 20/20\n",
      "34/34 - 1s - 17ms/step - loss: 0.0045\n"
     ]
    }
   ],
   "source": [
    "#train the data\n",
    "hist = model.fit(X_train, y_train, epochs = 20, batch_size = 32, verbose=2)"
   ]
  },
  {
   "cell_type": "code",
   "execution_count": 12,
   "id": "44855a33",
   "metadata": {
    "execution": {
     "iopub.execute_input": "2024-04-03T14:59:41.009938Z",
     "iopub.status.busy": "2024-04-03T14:59:41.009389Z",
     "iopub.status.idle": "2024-04-03T14:59:41.258838Z",
     "shell.execute_reply": "2024-04-03T14:59:41.257944Z"
    },
    "papermill": {
     "duration": 0.262179,
     "end_time": "2024-04-03T14:59:41.261003",
     "exception": false,
     "start_time": "2024-04-03T14:59:40.998824",
     "status": "completed"
    },
    "tags": []
   },
   "outputs": [
    {
     "data": {
      "image/png": "[encoded data removed]",
      "text/plain": [
       "<Figure size 640x480 with 1 Axes>"
      ]
     },
     "metadata": {},
     "output_type": "display_data"
    }
   ],
   "source": [
    "#visualising the model\n",
    "plt.plot(hist.history['loss'])\n",
    "plt.title('Training model loss')\n",
    "plt.ylabel('loss')\n",
    "plt.xlabel('epoch')\n",
    "plt.legend(['train'], loc='upper left')\n",
    "plt.show()"
   ]
  },
  {
   "cell_type": "code",
   "execution_count": 13,
   "id": "ddfec006",
   "metadata": {
    "execution": {
     "iopub.execute_input": "2024-04-03T14:59:41.281125Z",
     "iopub.status.busy": "2024-04-03T14:59:41.280817Z",
     "iopub.status.idle": "2024-04-03T14:59:41.298788Z",
     "shell.execute_reply": "2024-04-03T14:59:41.297933Z"
    },
    "papermill": {
     "duration": 0.030095,
     "end_time": "2024-04-03T14:59:41.300661",
     "exception": false,
     "start_time": "2024-04-03T14:59:41.270566",
     "status": "completed"
    },
    "tags": []
   },
   "outputs": [
    {
     "data": {
      "text/plain": [
       "(190, 60, 1)"
      ]
     },
     "execution_count": 13,
     "metadata": {},
     "output_type": "execute_result"
    }
   ],
   "source": [
    "#test the model with new dataset\n",
    "testData = pd.read_csv('../input/google/GoogleTest_Data.csv')\n",
    "testData[\"Close\"]=pd.to_numeric(testData.Close,errors='coerce')\n",
    "testData = testData.dropna()\n",
    "testData = testData.iloc[:,4:5]\n",
    "y_test = testData.iloc[60:,0:].values \n",
    "#input array for the model\n",
    "inputClosing = testData.iloc[:,0:].values \n",
    "inputClosing_scaled = sc.transform(inputClosing)\n",
    "inputClosing_scaled.shape\n",
    "X_test = []\n",
    "length = len(testData)\n",
    "timestep = 60\n",
    "for i in range(timestep,length):  \n",
    "    X_test.append(inputClosing_scaled[i-timestep:i,0])\n",
    "X_test = np.array(X_test)\n",
    "X_test = np.reshape(X_test,(X_test.shape[0],X_test.shape[1],1))\n",
    "X_test.shape"
   ]
  },
  {
   "cell_type": "code",
   "execution_count": 14,
   "id": "74907899",
   "metadata": {
    "execution": {
     "iopub.execute_input": "2024-04-03T14:59:41.321386Z",
     "iopub.status.busy": "2024-04-03T14:59:41.321072Z",
     "iopub.status.idle": "2024-04-03T14:59:41.967797Z",
     "shell.execute_reply": "2024-04-03T14:59:41.966844Z"
    },
    "papermill": {
     "duration": 0.659354,
     "end_time": "2024-04-03T14:59:41.969798",
     "exception": false,
     "start_time": "2024-04-03T14:59:41.310444",
     "status": "completed"
    },
    "tags": []
   },
   "outputs": [
    {
     "name": "stdout",
     "output_type": "stream",
     "text": [
      "\u001b[1m6/6\u001b[0m \u001b[32m━━━━━━━━━━━━━━━━━━━━\u001b[0m\u001b[37m\u001b[0m \u001b[1m1s\u001b[0m 61ms/step\n"
     ]
    },
    {
     "data": {
      "text/plain": [
       "array([[1.1937017],\n",
       "       [1.19198  ],\n",
       "       [1.2066526],\n",
       "       [1.2277226],\n",
       "       [1.2382348],\n",
       "       [1.2247889],\n",
       "       [1.1968224],\n",
       "       [1.1721196],\n",
       "       [1.1672219],\n",
       "       [1.1767169],\n",
       "       [1.1733465],\n",
       "       [1.1597732],\n",
       "       [1.1496512],\n",
       "       [1.1411705],\n",
       "       [1.1450815],\n",
       "       [1.1562884],\n",
       "       [1.1854889],\n",
       "       [1.222812 ],\n",
       "       [1.2572235],\n",
       "       [1.2854908],\n",
       "       [1.2794365],\n",
       "       [1.2568244],\n",
       "       [1.2194268],\n",
       "       [1.1827934],\n",
       "       [1.1627474],\n",
       "       [1.1647568],\n",
       "       [1.1793647],\n",
       "       [1.1877351],\n",
       "       [1.1760489],\n",
       "       [1.1580396],\n",
       "       [1.1412449],\n",
       "       [1.1243119],\n",
       "       [1.0977043],\n",
       "       [1.0671331],\n",
       "       [1.0673484],\n",
       "       [1.0961032],\n",
       "       [1.1323537],\n",
       "       [1.160173 ],\n",
       "       [1.1784959],\n",
       "       [1.1757392],\n",
       "       [1.1809262],\n",
       "       [1.1956561],\n",
       "       [1.2157556],\n",
       "       [1.2328489],\n",
       "       [1.240867 ],\n",
       "       [1.2350881],\n",
       "       [1.2162222],\n",
       "       [1.208161 ],\n",
       "       [1.2147626],\n",
       "       [1.2325618],\n",
       "       [1.2557011],\n",
       "       [1.2636224],\n",
       "       [1.2591478],\n",
       "       [1.2488948],\n",
       "       [1.2464539],\n",
       "       [1.2422315],\n",
       "       [1.2312297],\n",
       "       [1.230386 ],\n",
       "       [1.251219 ],\n",
       "       [1.279474 ],\n",
       "       [1.312093 ],\n",
       "       [1.3453468],\n",
       "       [1.3566973],\n",
       "       [1.3409228],\n",
       "       [1.311124 ],\n",
       "       [1.2826756],\n",
       "       [1.2761734],\n",
       "       [1.2863848],\n",
       "       [1.3028585],\n",
       "       [1.3134567],\n",
       "       [1.3186259],\n",
       "       [1.3178352],\n",
       "       [1.3059675],\n",
       "       [1.2958153],\n",
       "       [1.2909279],\n",
       "       [1.2931087],\n",
       "       [1.29934  ],\n",
       "       [1.3075429],\n",
       "       [1.3243366],\n",
       "       [1.3464955],\n",
       "       [1.3722352],\n",
       "       [1.3914807],\n",
       "       [1.3936254],\n",
       "       [1.3834325],\n",
       "       [1.3858949],\n",
       "       [1.4070724],\n",
       "       [1.4335761],\n",
       "       [1.4498359],\n",
       "       [1.4533807],\n",
       "       [1.4488794],\n",
       "       [1.4491744],\n",
       "       [1.4662228],\n",
       "       [1.4928783],\n",
       "       [1.5028583],\n",
       "       [1.4907974],\n",
       "       [1.4654334],\n",
       "       [1.434991 ],\n",
       "       [1.4084426],\n",
       "       [1.3945278],\n",
       "       [1.4029984],\n",
       "       [1.4258909],\n",
       "       [1.4520092],\n",
       "       [1.4760528],\n",
       "       [1.4881828],\n",
       "       [1.4875839],\n",
       "       [1.4767989],\n",
       "       [1.466066 ],\n",
       "       [1.4606229],\n",
       "       [1.466587 ],\n",
       "       [1.4793162],\n",
       "       [1.4944409],\n",
       "       [1.5108901],\n",
       "       [1.523508 ],\n",
       "       [1.5363313],\n",
       "       [1.5543638],\n",
       "       [1.5660051],\n",
       "       [1.5730295],\n",
       "       [1.5804077],\n",
       "       [1.594385 ],\n",
       "       [1.5545989],\n",
       "       [1.4787459],\n",
       "       [1.4052477],\n",
       "       [1.37063  ],\n",
       "       [1.3732436],\n",
       "       [1.3869418],\n",
       "       [1.3955251],\n",
       "       [1.3958244],\n",
       "       [1.3930129],\n",
       "       [1.3743116],\n",
       "       [1.3437054],\n",
       "       [1.3367422],\n",
       "       [1.3576728],\n",
       "       [1.3807815],\n",
       "       [1.3832738],\n",
       "       [1.375781 ],\n",
       "       [1.3680941],\n",
       "       [1.3586158],\n",
       "       [1.3464057],\n",
       "       [1.3358835],\n",
       "       [1.3212234],\n",
       "       [1.3076242],\n",
       "       [1.2923129],\n",
       "       [1.2471979],\n",
       "       [1.1988894],\n",
       "       [1.1607661],\n",
       "       [1.1405013],\n",
       "       [1.146119 ],\n",
       "       [1.173735 ],\n",
       "       [1.2069603],\n",
       "       [1.2324536],\n",
       "       [1.2508837],\n",
       "       [1.260473 ],\n",
       "       [1.2656338],\n",
       "       [1.2728167],\n",
       "       [1.2800517],\n",
       "       [1.289033 ],\n",
       "       [1.3019623],\n",
       "       [1.3117065],\n",
       "       [1.3025919],\n",
       "       [1.2789708],\n",
       "       [1.2520398],\n",
       "       [1.2337766],\n",
       "       [1.2344693],\n",
       "       [1.2537037],\n",
       "       [1.2836536],\n",
       "       [1.3159919],\n",
       "       [1.3340673],\n",
       "       [1.3407735],\n",
       "       [1.347606 ],\n",
       "       [1.356555 ],\n",
       "       [1.3646709],\n",
       "       [1.3719864],\n",
       "       [1.378429 ],\n",
       "       [1.3791684],\n",
       "       [1.3755448],\n",
       "       [1.3627458],\n",
       "       [1.3509151],\n",
       "       [1.3482211],\n",
       "       [1.3484206],\n",
       "       [1.3461382],\n",
       "       [1.3984251],\n",
       "       [1.4724469],\n",
       "       [1.5258384],\n",
       "       [1.5433426],\n",
       "       [1.5315586],\n",
       "       [1.5005683],\n",
       "       [1.4465835],\n",
       "       [1.4024982],\n",
       "       [1.3819742],\n",
       "       [1.3967927]], dtype=float32)"
      ]
     },
     "execution_count": 14,
     "metadata": {},
     "output_type": "execute_result"
    }
   ],
   "source": [
    "#predicting the model & check the values\n",
    "y_pred = model.predict(X_test)\n",
    "y_pred"
   ]
  },
  {
   "cell_type": "code",
   "execution_count": 15,
   "id": "d5c0e79f",
   "metadata": {
    "execution": {
     "iopub.execute_input": "2024-04-03T14:59:41.992323Z",
     "iopub.status.busy": "2024-04-03T14:59:41.991992Z",
     "iopub.status.idle": "2024-04-03T14:59:41.996419Z",
     "shell.execute_reply": "2024-04-03T14:59:41.995564Z"
    },
    "papermill": {
     "duration": 0.017939,
     "end_time": "2024-04-03T14:59:41.998299",
     "exception": false,
     "start_time": "2024-04-03T14:59:41.980360",
     "status": "completed"
    },
    "tags": []
   },
   "outputs": [],
   "source": [
    "#plot the data between actual and predicting stock price\n",
    "predicted_price = sc.inverse_transform(y_pred)"
   ]
  },
  {
   "cell_type": "code",
   "execution_count": 16,
   "id": "1b592acb",
   "metadata": {
    "execution": {
     "iopub.execute_input": "2024-04-03T14:59:42.019938Z",
     "iopub.status.busy": "2024-04-03T14:59:42.019397Z",
     "iopub.status.idle": "2024-04-03T14:59:42.279320Z",
     "shell.execute_reply": "2024-04-03T14:59:42.278501Z"
    },
    "papermill": {
     "duration": 0.272897,
     "end_time": "2024-04-03T14:59:42.281346",
     "exception": false,
     "start_time": "2024-04-03T14:59:42.008449",
     "status": "completed"
    },
    "tags": []
   },
   "outputs": [
    {
     "data": {
      "image/png": "[encoded data removed]",
      "text/plain": [
       "<Figure size 640x480 with 1 Axes>"
      ]
     },
     "metadata": {},
     "output_type": "display_data"
    }
   ],
   "source": [
    "#visualization the actual stock proce & predicting stock proce\n",
    "plt.plot(y_test, color = 'red', label = 'Actual Stock Price')\n",
    "plt.plot(predicted_price, color = 'green', label = 'Predicted Stock Price')\n",
    "plt.title('Google stock price prediction')\n",
    "plt.xlabel('Time')\n",
    "plt.ylabel('Stock Price')\n",
    "plt.legend()\n",
    "plt.show()"
   ]
  }
 ],
 "metadata": {
  "kaggle": {
   "accelerator": "gpu",
   "dataSources": [
    {
     "datasetId": 4645773,
     "sourceId": 7908495,
     "sourceType": "datasetVersion"
    }
   ],
   "dockerImageVersionId": 30674,
   "isGpuEnabled": true,
   "isInternetEnabled": true,
   "language": "python",
   "sourceType": "notebook"
  },
  "kernelspec": {
   "display_name": "Python 3",
   "language": "python",
   "name": "python3"
  },
  "language_info": {
   "codemirror_mode": {
    "name": "ipython",
    "version": 3
   },
   "file_extension": ".py",
   "mimetype": "text/x-python",
   "name": "python",
   "nbconvert_exporter": "python",
   "pygments_lexer": "ipython3",
   "version": "3.10.13"
  },
  "papermill": {
   "default_parameters": {},
   "duration": 38.16407,
   "end_time": "2024-04-03T14:59:44.782313",
   "environment_variables": {},
   "exception": null,
   "input_path": "__notebook__.ipynb",
   "output_path": "__notebook__.ipynb",
   "parameters": {},
   "start_time": "2024-04-03T14:59:06.618243",
   "version": "2.5.0"
  }
 },
 "nbformat": 4,
 "nbformat_minor": 5
}
